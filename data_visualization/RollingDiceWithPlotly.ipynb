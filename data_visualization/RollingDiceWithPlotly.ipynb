{
 "cells": [
  {
   "cell_type": "code",
   "execution_count": 18,
   "metadata": {},
   "outputs": [],
   "source": [
    "# die\n",
    "from random import randint\n",
    "\n",
    "class Die:\n",
    "  def __init__(self, num_sides=6) -> None:\n",
    "    self.num_sides = num_sides\n",
    "  \n",
    "  def roll(self):\n",
    "    return randint(1, self.num_sides)\n",
    "\n",
    "\n"
   ]
  },
  {
   "cell_type": "code",
   "execution_count": 19,
   "metadata": {},
   "outputs": [
    {
     "name": "stdout",
     "output_type": "stream",
     "text": [
      "[858, 1710, 2524, 3337, 4118, 4918, 5067, 4948, 5094, 4960, 4172, 3325, 2519, 1609, 841]\n"
     ]
    },
    {
     "data": {
      "text/plain": [
       "'d6_d10.html'"
      ]
     },
     "execution_count": 19,
     "metadata": {},
     "output_type": "execute_result"
    }
   ],
   "source": [
    "from plotly.graph_objs import Bar, Layout\n",
    "from plotly import offline\n",
    "\n",
    "# Create two Die\n",
    "die_1 = Die()\n",
    "die_2 = Die(10)\n",
    "\n",
    "results = []\n",
    "for roll_num in range(50_000):\n",
    "  result = die_1.roll() + die_2.roll()\n",
    "  results.append(result)\n",
    "\n",
    "# analyzing the results\n",
    "frequencies = []\n",
    "max_result = die_1.num_sides + die_2.num_sides\n",
    "for value in range(2, max_result+1):\n",
    "  frequency = results.count(value)\n",
    "  frequencies.append(frequency)\n",
    "\n",
    "print(frequencies)\n",
    "\n",
    "# making a histogram\n",
    "# visualize the results\n",
    "x_values = list(range(1, max_result+1))\n",
    "data = [Bar(x=x_values, y=frequencies)]\n",
    "\n",
    "x_axis_config = {'title': 'Result', 'dtick': 1}\n",
    "y_axis_config = {'title': 'Frequency of Result'}\n",
    "\n",
    "my_layout = Layout(title='Results of rolling Two D6 50000 times', \n",
    "                   xaxis=x_axis_config, yaxis=y_axis_config)\n",
    "offline.plot({'data': data, 'layout': my_layout}, filename='d6_d10.html')"
   ]
  },
  {
   "cell_type": "code",
   "execution_count": 20,
   "metadata": {},
   "outputs": [
    {
     "name": "stdout",
     "output_type": "stream",
     "text": [
      "[14, 27, 46, 56, 69, 112, 112, 125, 114, 81, 72, 70, 42, 43, 17]\n"
     ]
    },
    {
     "data": {
      "text/plain": [
       "'d8_d8.html'"
      ]
     },
     "execution_count": 20,
     "metadata": {},
     "output_type": "execute_result"
    }
   ],
   "source": [
    "\"\"\"15-6 Two D8s: Create a simulation showing what happens when you roll two\n",
    "eight-sided dice 1000 times. Try to picture what you think the visualization\n",
    "will look like before you run the simulation; then see if your intuition was\n",
    "correct. Gradually increase the number of rolls until you start to see the\n",
    "limits of your system’s capabilities\"\"\"\n",
    "from plotly.graph_objs import Bar, Layout\n",
    "from plotly import offline\n",
    "\n",
    "# Create two Die\n",
    "die_1 = Die(8)\n",
    "die_2 = Die(8)\n",
    "\n",
    "results = []\n",
    "for roll_num in range(1_000):\n",
    "  result = die_1.roll() + die_2.roll()\n",
    "  results.append(result)\n",
    "\n",
    "# analyzing the results\n",
    "frequencies = []\n",
    "max_result = die_1.num_sides + die_2.num_sides\n",
    "for value in range(2, max_result+1):\n",
    "  frequency = results.count(value)\n",
    "  frequencies.append(frequency)\n",
    "\n",
    "print(frequencies)\n",
    "\n",
    "# making a histogram\n",
    "# visualize the results\n",
    "x_values = list(range(1, max_result+1))\n",
    "data = [Bar(x=x_values, y=frequencies)]\n",
    "\n",
    "x_axis_config = {'title': 'Result', 'dtick': 1}\n",
    "y_axis_config = {'title': 'Frequency of Result'}\n",
    "\n",
    "my_layout = Layout(title='Results of rolling Two D8 1000 times', \n",
    "                   xaxis=x_axis_config, yaxis=y_axis_config)\n",
    "offline.plot({'data': data, 'layout': my_layout}, filename='d8_d8.html')"
   ]
  },
  {
   "cell_type": "code",
   "execution_count": 21,
   "metadata": {},
   "outputs": [
    {
     "name": "stdout",
     "output_type": "stream",
     "text": [
      "[1, 15, 26, 31, 79, 100, 124, 112, 124, 110]\n"
     ]
    },
    {
     "data": {
      "text/plain": [
       "'three_d6.html'"
      ]
     },
     "execution_count": 21,
     "metadata": {},
     "output_type": "execute_result"
    }
   ],
   "source": [
    "\"\"\"15 -7.   Three Dice: When you roll three D6 dice, the smallest number you can\n",
    " roll is 3 and the largest number is 18. Create a visualization that shows what\n",
    " hap-pens when you roll three D6 dice\"\"\"\n",
    "from plotly.graph_objs import Bar, Layout\n",
    "from plotly import offline\n",
    "\n",
    "# Create two Die\n",
    "die_1 = Die(num_sides=6)\n",
    "die_2 = Die(num_sides=6)\n",
    "die_3 = Die(num_sides=6)\n",
    "\n",
    "results = []\n",
    "for roll_num in range(1_000):\n",
    "  result = die_1.roll() + die_2.roll() + die_3.roll()\n",
    "  results.append(result)\n",
    "\n",
    "# analyzing the results\n",
    "frequencies = []\n",
    "max_result = die_1.num_sides + die_2.num_sides\n",
    "for value in range(3, max_result+1):\n",
    "  frequency = results.count(value)\n",
    "  frequencies.append(frequency)\n",
    "\n",
    "print(frequencies)\n",
    "\n",
    "# making a histogram\n",
    "# visualize the results\n",
    "x_values = list(range(1, max_result+1))\n",
    "data = [Bar(x=x_values, y=frequencies)]\n",
    "\n",
    "x_axis_config = {'title': 'Result', 'dtick': 1}\n",
    "y_axis_config = {'title': 'Frequency of Result'}\n",
    "\n",
    "my_layout = Layout(title='Results of rolling Two D8 1000 times', \n",
    "                   xaxis=x_axis_config, yaxis=y_axis_config)\n",
    "offline.plot({'data': data, 'layout': my_layout}, filename='three_d6.html')"
   ]
  },
  {
   "cell_type": "code",
   "execution_count": 22,
   "metadata": {},
   "outputs": [
    {
     "name": "stdout",
     "output_type": "stream",
     "text": [
      "[26, 46, 52, 100, 64, 106, 0, 58, 30, 55, 0, 108, 0, 0, 52, 33, 0, 55, 0, 61, 0, 0, 0, 52, 23, 0, 0, 0, 0, 55, 0, 0, 0, 0, 0, 24]\n"
     ]
    },
    {
     "data": {
      "text/plain": [
       "'multiplication_d6.html'"
      ]
     },
     "execution_count": 22,
     "metadata": {},
     "output_type": "execute_result"
    }
   ],
   "source": [
    "\"\"\"15-8. Multiplication: When you roll two dice, you usually add the two numbers\n",
    "together to get the result. Create a visualization that shows what happens if \n",
    "you multiply these numbers instead\"\"\"\n",
    "from plotly.graph_objs import Bar, Layout\n",
    "from plotly import offline\n",
    "\n",
    "# Create two Die\n",
    "die_1 = Die(num_sides=6)\n",
    "die_2 = Die(num_sides=6)\n",
    "\n",
    "results = []\n",
    "for roll_num in range(1_000):\n",
    "  result = die_1.roll() * die_2.roll()\n",
    "  results.append(result)\n",
    "\n",
    "# analyzing the results\n",
    "frequencies = []\n",
    "max_result = die_1.num_sides * die_2.num_sides\n",
    "for value in range(1, max_result+1):\n",
    "  frequency = results.count(value)\n",
    "  frequencies.append(frequency)\n",
    "\n",
    "print(frequencies)\n",
    "\n",
    "# making a histogram\n",
    "# visualize the results\n",
    "x_values = list(range(1, max_result+1))\n",
    "data = [Bar(x=x_values, y=frequencies)]\n",
    "\n",
    "x_axis_config = {'title': 'Result', 'dtick': 1}\n",
    "y_axis_config = {'title': 'Frequency of Result'}\n",
    "\n",
    "my_layout = Layout(title='Results of rolling Two D6 1000 times', \n",
    "                   xaxis=x_axis_config, yaxis=y_axis_config)\n",
    "offline.plot({'data': data, 'layout': my_layout}, filename='multiplication_d6.html')"
   ]
  },
  {
   "cell_type": "code",
   "execution_count": 23,
   "metadata": {},
   "outputs": [
    {
     "data": {
      "text/plain": [
       "'multiplication_d6.html'"
      ]
     },
     "execution_count": 23,
     "metadata": {},
     "output_type": "execute_result"
    }
   ],
   "source": [
    "\"\"\"15-9. Die Comprehensions: For clarity, the listings in this section use the long \n",
    "form of for loops. If you’re comfortable using list comprehensions, try writing \n",
    "a comprehension for one or both of the loops in each of these programs\"\"\"\n",
    "from plotly.graph_objs import Bar, Layout\n",
    "from plotly import offline\n",
    "\n",
    "# Create two Die\n",
    "die_1, die2 = Die(), Die()\n",
    "\n",
    "results = [die_1.roll() * die_2.roll() for roll_num in range(1_000)]\n",
    "# analyzing the results\n",
    "frequencies = [results.count(value) for value in range(1, die_1.num_sides * die_2.num_sides+1) ]\n",
    "\n",
    "\n",
    "# making a histogram\n",
    "# visualize the results\n",
    "x_values = list(range(1, max_result+1))\n",
    "data = [Bar(x=x_values, y=frequencies)]\n",
    "\n",
    "x_axis_config = {'title': 'Result', 'dtick': 1}\n",
    "y_axis_config = {'title': 'Frequency of Result'}\n",
    "\n",
    "my_layout = Layout(title='Results of rolling Two D6 1000 times', \n",
    "                   xaxis=x_axis_config, yaxis=y_axis_config)\n",
    "offline.plot({'data': data, 'layout': my_layout}, filename='multiplication_d6.html')"
   ]
  },
  {
   "cell_type": "code",
   "execution_count": 24,
   "metadata": {},
   "outputs": [
    {
     "data": {
      "text/plain": [
       "'randomwalk_plotly.html'"
      ]
     },
     "execution_count": 24,
     "metadata": {},
     "output_type": "execute_result"
    }
   ],
   "source": [
    "\"\"\"15 -10. Practicing with Both Libraries: \n",
    "Try using Matplotlib to make a die-rolling visualization, and use Plotly to make\n",
    "the visualization for a random walk. (You’ll need to consult the documentation \n",
    "for each library to complete this exercise.)\"\"\"\n",
    "from random import choice\n",
    "import numpy as np\n",
    "class RandomWalk:\n",
    "  \"\"\"A class to generate random walks.\"\"\"\n",
    "\n",
    "  def __init__(self, num_points=5000):\n",
    "    self.num_points = num_points\n",
    "\n",
    "    self.x_values = [0]\n",
    "    self.y_values = [0]\n",
    "\n",
    "  def fill_walk(self):\n",
    "    while len(self.x_values) < self.num_points:\n",
    "      x_direction = choice([1, -1])\n",
    "      x_distance = choice([0, 1, 2, 3, 4])\n",
    "      x_step = x_direction * x_distance\n",
    "\n",
    "      y_direction = choice([1, -1])\n",
    "      y_distance = choice([0, 1, 2, 3, 4])\n",
    "      y_step = y_direction * y_distance\n",
    "\n",
    "      # Calculate the new position.\n",
    "      x = self.x_values[-1] + x_step\n",
    "      y = self.y_values[-1] + y_step\n",
    "\n",
    "      self.x_values.append(x)\n",
    "      self.y_values.append(y)\n",
    "\n",
    "\n",
    "from plotly.graph_objs import Bar, Layout\n",
    "from plotly import offline\n",
    "\n",
    "rw = RandomWalk(5000)\n",
    "rw.fill_walk()\n",
    "\n",
    "distance_data = []\n",
    "for i in range(1, rw.num_points):\n",
    "  distance = int(np.linalg.norm(np.array([rw.x_values[i-1], rw.y_values[i-1]])-np.array([rw.x_values[i], rw.y_values[i]]), ord=1))\n",
    "  distance_data.append(distance)\n",
    "\n",
    "frequencies = []\n",
    "for value in range(min(distance_data), max(distance_data)+1):\n",
    "  frequency = distance_data.count(value)\n",
    "  frequencies.append(frequency)\n",
    "\n",
    "# Plot the points in the walk.\n",
    "data = [Bar(x=distance_data, y=frequencies)]\n",
    "\n",
    "\n",
    "\n",
    "x_axis_config = {'title': 'Result', 'dtick': 1}\n",
    "y_axis_config = {'title': 'RandomWalk'}\n",
    "\n",
    "my_layout = Layout(title='5000次随机点的曼哈顿距离统计', \n",
    "                   xaxis=x_axis_config, yaxis=y_axis_config)\n",
    "offline.plot({'data': data, 'layout': my_layout}, filename='randomwalk_plotly.html')\n",
    "\n",
    "\n",
    "\n",
    "\n",
    "\n"
   ]
  }
 ],
 "metadata": {
  "kernelspec": {
   "display_name": "common",
   "language": "python",
   "name": "python3"
  },
  "language_info": {
   "codemirror_mode": {
    "name": "ipython",
    "version": 3
   },
   "file_extension": ".py",
   "mimetype": "text/x-python",
   "name": "python",
   "nbconvert_exporter": "python",
   "pygments_lexer": "ipython3",
   "version": "3.11.4"
  }
 },
 "nbformat": 4,
 "nbformat_minor": 2
}
